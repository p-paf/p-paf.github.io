{
 "cells": [
  {
   "cell_type": "markdown",
   "metadata": {},
   "source": [
    "- I can't teach recursion to you, but if I can teach you how to teach recursion to kids, maybe we're somewhere.\n",
    "- There's a lot of things [here](http://jeffe.cs.illinois.edu/teaching/algorithms/book/01-recursion.pdf) that we can use to make up the basics (connecting math induction to recursion)\n",
    "- Power of two, tromino, monomino, induction proof, problem. [here](https://undergroundmathematics.org/divisibility-and-induction/triominoes/solution)\n",
    "- Recursive [story](https://drive.google.com/file/d/1BgiWl0wAS5YTwHiYJay-iUeoG_AK6PZe/view?usp=sharing) by douglas hofstadter\n",
    "- Recursion Fairy (point 1)\n",
    " ![Fairy](https://static.vecteezy.com/system/resources/previews/000/587/447/original/vector-cute-little-fairy-holding-a-lantern.jpg)\n",
    "- Recursion v Iteration and StackOverflow (through fibonacci maybe)"
   ]
  },
  {
   "cell_type": "markdown",
   "metadata": {},
   "source": [
    "- google 'recursion'\n",
    "- understanding research papers in math (all the way recursively till Euclid)\n",
    "- without the Fairy - two mirrors to see what's in the opposite one\n",
    "- **Towers of Hanoi**: There is a story about an Indian temple in Kashi Vishwanath which contains a large room with three time-worn posts in it, surrounded by 64 golden disks. Brahmin priests, acting out the command of an ancient prophecy, have been moving these disks in accordance with the immutable rules of Brahma since that time. According to the legend, when the last move of the puzzle is completed, the world will end (show running recursive code)\n",
    "- visualization of ToH [here](https://www.mathsisfun.com/games/towerofhanoi.html)"
   ]
  },
  {
   "cell_type": "code",
   "execution_count": 2,
   "metadata": {},
   "outputs": [],
   "source": [
    "from typing import List\n",
    "A: List[int] = [i for i in range(4, 0, -1)]\n",
    "height: int = len(A) - 1  \n",
    "B: List[int] = []\n",
    "C: List[int] = []"
   ]
  },
  {
   "cell_type": "code",
   "execution_count": 3,
   "metadata": {},
   "outputs": [],
   "source": [
    "def move(n: int, source: List[int], target: List[int], auxiliary: List[int]):\n",
    "    if n > 0:\n",
    "        move(n - 1, source, auxiliary, target)\n",
    "        target.append(source.pop())\n",
    "        draw_disks(A, B, C, height)\n",
    "        print() \n",
    "        input()\n",
    "        move(n - 1, auxiliary, target, source)"
   ]
  },
  {
   "cell_type": "code",
   "execution_count": 4,
   "metadata": {},
   "outputs": [],
   "source": [
    "def draw_disks(A: List[int], B: List[int], C: List[int], position: int, width: int = 2 * int(max(A))):\n",
    "    if position >= 0:\n",
    "        valueInA: str = \" \" if position >= len(A) else create_disk(A[position])\n",
    "        valueInB: str = \" \" if position >= len(B) else create_disk(B[position])\n",
    "        valueInC: str = \" \" if position >= len(C) else create_disk(C[position])\n",
    "\n",
    "        print(\"{0:^{width}}{1:^{width}}{2:^{width}}\".format(valueInA, valueInB, valueInC, width=width))\n",
    "\n",
    "        draw_disks(A, B, C, position - 1, width)\n",
    "    else:\n",
    "        print(\"{0:^{width}}{1:^{width}}{2:^{width}}\".format(\"A\", \"B\", \"C\", width=width))"
   ]
  },
  {
   "cell_type": "markdown",
   "metadata": {},
   "source": [
    "Important: The challenge of teaching recursion was attemped using recursion. Parallel \"if I could use a fairy to solve a smaller problem, then by {idea}, I'd solve the original problem\" to \"if I could use a fairy to teach you how to teach recursion, then by {telling you I did so to teach you recursion}, I'd solve the original problem. This recursion was pretty small, with only two layers, but the number of layers is not a problem for us once we have a {base case} and an {idea}."
   ]
  },
  {
   "cell_type": "code",
   "execution_count": 5,
   "metadata": {},
   "outputs": [],
   "source": [
    "def create_disk(size: int) -> str:\n",
    "    if size == 1:\n",
    "        return \"/\\\\\"\n",
    "    else:\n",
    "        return \"/\" + create_disk(size - 1) + \"\\\\\""
   ]
  },
  {
   "cell_type": "code",
   "execution_count": 6,
   "metadata": {},
   "outputs": [
    {
     "name": "stdout",
     "output_type": "stream",
     "text": [
      "                        \n",
      "  //\\\\                  \n",
      " ///\\\\\\                 \n",
      "////\\\\\\\\   /\\           \n",
      "   A       B       C    \n",
      "\n",
      "\n",
      "                        \n",
      "                        \n",
      " ///\\\\\\                 \n",
      "////\\\\\\\\   /\\     //\\\\  \n",
      "   A       B       C    \n",
      "\n",
      "\n",
      "                        \n",
      "                        \n",
      " ///\\\\\\            /\\   \n",
      "////\\\\\\\\          //\\\\  \n",
      "   A       B       C    \n",
      "\n",
      "\n",
      "                        \n",
      "                        \n",
      "                   /\\   \n",
      "////\\\\\\\\ ///\\\\\\   //\\\\  \n",
      "   A       B       C    \n",
      "\n",
      "\n",
      "                        \n",
      "                        \n",
      "   /\\                   \n",
      "////\\\\\\\\ ///\\\\\\   //\\\\  \n",
      "   A       B       C    \n",
      "\n",
      "\n",
      "                        \n",
      "                        \n",
      "   /\\     //\\\\          \n",
      "////\\\\\\\\ ///\\\\\\         \n",
      "   A       B       C    \n",
      "\n",
      "\n",
      "                        \n",
      "           /\\           \n",
      "          //\\\\          \n",
      "////\\\\\\\\ ///\\\\\\         \n",
      "   A       B       C    \n",
      "\n",
      "\n",
      "                        \n",
      "           /\\           \n",
      "          //\\\\          \n",
      "         ///\\\\\\ ////\\\\\\\\\n",
      "   A       B       C    \n",
      "\n",
      "\n",
      "                        \n",
      "                        \n",
      "          //\\\\     /\\   \n",
      "         ///\\\\\\ ////\\\\\\\\\n",
      "   A       B       C    \n",
      "\n",
      "\n",
      "                        \n",
      "                        \n",
      "                   /\\   \n",
      "  //\\\\   ///\\\\\\ ////\\\\\\\\\n",
      "   A       B       C    \n",
      "\n",
      "\n",
      "                        \n",
      "                        \n",
      "   /\\                   \n",
      "  //\\\\   ///\\\\\\ ////\\\\\\\\\n",
      "   A       B       C    \n",
      "\n",
      "\n",
      "                        \n",
      "                        \n",
      "   /\\            ///\\\\\\ \n",
      "  //\\\\          ////\\\\\\\\\n",
      "   A       B       C    \n",
      "\n",
      "\n",
      "                        \n",
      "                        \n",
      "                 ///\\\\\\ \n",
      "  //\\\\     /\\   ////\\\\\\\\\n",
      "   A       B       C    \n",
      "\n",
      "\n",
      "                        \n",
      "                  //\\\\  \n",
      "                 ///\\\\\\ \n",
      "           /\\   ////\\\\\\\\\n",
      "   A       B       C    \n",
      "\n",
      "\n",
      "                   /\\   \n",
      "                  //\\\\  \n",
      "                 ///\\\\\\ \n",
      "                ////\\\\\\\\\n",
      "   A       B       C    \n",
      "\n",
      "\n"
     ]
    }
   ],
   "source": [
    "move(len(A), A, C, B)"
   ]
  },
  {
   "cell_type": "markdown",
   "metadata": {},
   "source": [
    "- example where recursion is bad: Fibonacci (more on this in the DP lecture)"
   ]
  },
  {
   "cell_type": "code",
   "execution_count": 7,
   "metadata": {},
   "outputs": [],
   "source": [
    "def fibonacci(n: int):\n",
    "    return fibonacci(n - 1) + fibonacci(n - 2) if n > 1 else 1"
   ]
  },
  {
   "cell_type": "code",
   "execution_count": 8,
   "metadata": {},
   "outputs": [
    {
     "data": {
      "text/plain": [
       "433494437"
      ]
     },
     "execution_count": 8,
     "metadata": {},
     "output_type": "execute_result"
    }
   ],
   "source": [
    "fibonacci(42)"
   ]
  },
  {
   "cell_type": "code",
   "execution_count": 2,
   "metadata": {},
   "outputs": [],
   "source": [
    "def factorial(n: int):\n",
    "    return n * factorial(n - 1) if n > 1 else 1"
   ]
  },
  {
   "cell_type": "code",
   "execution_count": 3,
   "metadata": {},
   "outputs": [
    {
     "data": {
      "text/plain": [
       "6662114104669102659441021975736134627769448930279862933653218630551948003511087832565415828448678280273978753617211105330479503215391395051285941411676952807468659285639696303194016356426102905293246092874474761645912856695644240665245982604485191327580894984261640512855484243841384335849362695123615035750935706878324574737858489512861092219029899373726694555642915186832331932293272162921969108837665231946747134114678139970333858780786306763062986052579371266852134060032000000000000000000000000000000000000000000000000000000000000000000"
      ]
     },
     "execution_count": 3,
     "metadata": {},
     "output_type": "execute_result"
    }
   ],
   "source": [
    "factorial(270)"
   ]
  },
  {
   "cell_type": "code",
   "execution_count": 4,
   "metadata": {},
   "outputs": [],
   "source": [
    "# import sys\n",
    "# sys.getrecursionlimit()\n",
    "# sys.setrecursionlimit(1)"
   ]
  },
  {
   "cell_type": "markdown",
   "metadata": {},
   "source": [
    "- common class exercise: find out what the (default) recursion depth limit is in Python, thus explaining the importance and effect of divide and conquer as a technique and how it is recursive in nature.\n",
    "- Why does factorial(42) take so lesser time than fibonacci(42) even if the result is so larger?"
   ]
  },
  {
   "cell_type": "code",
   "execution_count": 5,
   "metadata": {},
   "outputs": [
    {
     "ename": "RecursionError",
     "evalue": "maximum recursion depth exceeded in comparison",
     "output_type": "error",
     "traceback": [
      "\u001b[0;31m---------------------------------------------------------------------------\u001b[0m",
      "\u001b[0;31mRecursionError\u001b[0m                            Traceback (most recent call last)",
      "\u001b[0;32m<ipython-input-5-35d9bae71daa>\u001b[0m in \u001b[0;36m<module>\u001b[0;34m\u001b[0m\n\u001b[0;32m----> 1\u001b[0;31m \u001b[0mfactorial\u001b[0m\u001b[0;34m(\u001b[0m\u001b[0;36m3750\u001b[0m\u001b[0;34m)\u001b[0m\u001b[0;34m\u001b[0m\u001b[0;34m\u001b[0m\u001b[0m\n\u001b[0m",
      "\u001b[0;32m<ipython-input-2-423b17c2de85>\u001b[0m in \u001b[0;36mfactorial\u001b[0;34m(n)\u001b[0m\n\u001b[1;32m      1\u001b[0m \u001b[0;32mdef\u001b[0m \u001b[0mfactorial\u001b[0m\u001b[0;34m(\u001b[0m\u001b[0mn\u001b[0m\u001b[0;34m:\u001b[0m \u001b[0mint\u001b[0m\u001b[0;34m)\u001b[0m\u001b[0;34m:\u001b[0m\u001b[0;34m\u001b[0m\u001b[0;34m\u001b[0m\u001b[0m\n\u001b[0;32m----> 2\u001b[0;31m     \u001b[0;32mreturn\u001b[0m \u001b[0mn\u001b[0m \u001b[0;34m*\u001b[0m \u001b[0mfactorial\u001b[0m\u001b[0;34m(\u001b[0m\u001b[0mn\u001b[0m \u001b[0;34m-\u001b[0m \u001b[0;36m1\u001b[0m\u001b[0;34m)\u001b[0m \u001b[0;32mif\u001b[0m \u001b[0mn\u001b[0m \u001b[0;34m>\u001b[0m \u001b[0;36m1\u001b[0m \u001b[0;32melse\u001b[0m \u001b[0;36m1\u001b[0m\u001b[0;34m\u001b[0m\u001b[0;34m\u001b[0m\u001b[0m\n\u001b[0m",
      "... last 1 frames repeated, from the frame below ...\n",
      "\u001b[0;32m<ipython-input-2-423b17c2de85>\u001b[0m in \u001b[0;36mfactorial\u001b[0;34m(n)\u001b[0m\n\u001b[1;32m      1\u001b[0m \u001b[0;32mdef\u001b[0m \u001b[0mfactorial\u001b[0m\u001b[0;34m(\u001b[0m\u001b[0mn\u001b[0m\u001b[0;34m:\u001b[0m \u001b[0mint\u001b[0m\u001b[0;34m)\u001b[0m\u001b[0;34m:\u001b[0m\u001b[0;34m\u001b[0m\u001b[0;34m\u001b[0m\u001b[0m\n\u001b[0;32m----> 2\u001b[0;31m     \u001b[0;32mreturn\u001b[0m \u001b[0mn\u001b[0m \u001b[0;34m*\u001b[0m \u001b[0mfactorial\u001b[0m\u001b[0;34m(\u001b[0m\u001b[0mn\u001b[0m \u001b[0;34m-\u001b[0m \u001b[0;36m1\u001b[0m\u001b[0;34m)\u001b[0m \u001b[0;32mif\u001b[0m \u001b[0mn\u001b[0m \u001b[0;34m>\u001b[0m \u001b[0;36m1\u001b[0m \u001b[0;32melse\u001b[0m \u001b[0;36m1\u001b[0m\u001b[0;34m\u001b[0m\u001b[0;34m\u001b[0m\u001b[0m\n\u001b[0m",
      "\u001b[0;31mRecursionError\u001b[0m: maximum recursion depth exceeded in comparison"
     ]
    }
   ],
   "source": [
    "factorial(3750)"
   ]
  },
  {
   "cell_type": "code",
   "execution_count": null,
   "metadata": {},
   "outputs": [],
   "source": []
  }
 ],
 "metadata": {
  "kernelspec": {
   "display_name": "Python 3",
   "language": "python",
   "name": "python3"
  },
  "language_info": {
   "codemirror_mode": {
    "name": "ipython",
    "version": 3
   },
   "file_extension": ".py",
   "mimetype": "text/x-python",
   "name": "python",
   "nbconvert_exporter": "python",
   "pygments_lexer": "ipython3",
   "version": "3.7.4"
  }
 },
 "nbformat": 4,
 "nbformat_minor": 2
}
